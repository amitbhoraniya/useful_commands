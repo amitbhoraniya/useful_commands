{
 "cells": [
  {
   "cell_type": "markdown",
   "metadata": {},
   "source": [
    "# Numpy"
   ]
  },
  {
   "cell_type": "markdown",
   "metadata": {},
   "source": [
    "  ## Install"
   ]
  },
  {
   "cell_type": "code",
   "execution_count": 1,
   "metadata": {},
   "outputs": [
    {
     "name": "stdout",
     "output_type": "stream",
     "text": [
      "Requirement already up-to-date: numpy in /usr/local/lib/python3.7/site-packages (1.17.4)\r\n"
     ]
    }
   ],
   "source": [
    "!pip3 install numpy --upgrade"
   ]
  },
  {
   "cell_type": "markdown",
   "metadata": {},
   "source": [
    "## Import"
   ]
  },
  {
   "cell_type": "code",
   "execution_count": 2,
   "metadata": {},
   "outputs": [],
   "source": [
    "import numpy as np"
   ]
  },
  {
   "cell_type": "markdown",
   "metadata": {},
   "source": [
    "## Create Array"
   ]
  },
  {
   "cell_type": "markdown",
   "metadata": {},
   "source": [
    "#### Numpy array from an array"
   ]
  },
  {
   "cell_type": "code",
   "execution_count": 3,
   "metadata": {},
   "outputs": [
    {
     "data": {
      "text/plain": [
       "array([1, 2, 3, 4])"
      ]
     },
     "execution_count": 3,
     "metadata": {},
     "output_type": "execute_result"
    }
   ],
   "source": [
    "array_first = np.array([1,2,3,4])\n",
    "array_first"
   ]
  },
  {
   "cell_type": "code",
   "execution_count": 4,
   "metadata": {},
   "outputs": [
    {
     "data": {
      "text/plain": [
       "array([6, 7, 8, 9])"
      ]
     },
     "execution_count": 4,
     "metadata": {},
     "output_type": "execute_result"
    }
   ],
   "source": [
    "numbers = [6,7,8,9]\n",
    "array_second = np.array(numbers)\n",
    "array_second"
   ]
  },
  {
   "cell_type": "markdown",
   "metadata": {},
   "source": [
    "#### Numpy array initialize with zeroes"
   ]
  },
  {
   "cell_type": "code",
   "execution_count": 5,
   "metadata": {},
   "outputs": [
    {
     "data": {
      "text/plain": [
       "array([[0., 0., 0.],\n",
       "       [0., 0., 0.]])"
      ]
     },
     "execution_count": 5,
     "metadata": {},
     "output_type": "execute_result"
    }
   ],
   "source": [
    "array_third = np.zeros((2,3))\n",
    "array_third"
   ]
  },
  {
   "cell_type": "markdown",
   "metadata": {},
   "source": [
    "#### Numpy array initialize with ones"
   ]
  },
  {
   "cell_type": "code",
   "execution_count": 6,
   "metadata": {},
   "outputs": [
    {
     "data": {
      "text/plain": [
       "array([[1., 1., 1.],\n",
       "       [1., 1., 1.]])"
      ]
     },
     "execution_count": 6,
     "metadata": {},
     "output_type": "execute_result"
    }
   ],
   "source": [
    "array_ones = np.ones((2,3))\n",
    "array_ones"
   ]
  },
  {
   "cell_type": "markdown",
   "metadata": {},
   "source": [
    "#### Numpy array initialize with datatype"
   ]
  },
  {
   "cell_type": "code",
   "execution_count": 7,
   "metadata": {},
   "outputs": [
    {
     "data": {
      "text/plain": [
       "array([[1, 1, 1],\n",
       "       [1, 1, 1]], dtype=int16)"
      ]
     },
     "execution_count": 7,
     "metadata": {},
     "output_type": "execute_result"
    }
   ],
   "source": [
    "array_ones_int = np.ones((2,3),dtype=np.int16)\n",
    "array_ones_int"
   ]
  },
  {
   "cell_type": "markdown",
   "metadata": {},
   "source": [
    "#### Numpy create an empty array"
   ]
  },
  {
   "cell_type": "code",
   "execution_count": 8,
   "metadata": {},
   "outputs": [
    {
     "data": {
      "text/plain": [
       "array([[-0.00000000e+000, -2.00389210e+000],\n",
       "       [ 9.88131292e-324,  2.82464337e-309]])"
      ]
     },
     "execution_count": 8,
     "metadata": {},
     "output_type": "execute_result"
    }
   ],
   "source": [
    "# Create new uninitialized array\n",
    "array_empty = np.empty((2, 2))\n",
    "array_empty"
   ]
  },
  {
   "cell_type": "markdown",
   "metadata": {},
   "source": [
    "#### Create diagonal array"
   ]
  },
  {
   "cell_type": "code",
   "execution_count": 9,
   "metadata": {},
   "outputs": [
    {
     "data": {
      "text/plain": [
       "array([[1., 0., 0.],\n",
       "       [0., 1., 0.],\n",
       "       [0., 0., 1.]])"
      ]
     },
     "execution_count": 9,
     "metadata": {},
     "output_type": "execute_result"
    }
   ],
   "source": [
    "# create 1 in diagonal and 0 else\n",
    "array_eye = np.eye(3)\n",
    "array_eye"
   ]
  },
  {
   "cell_type": "markdown",
   "metadata": {},
   "source": [
    "#### Generate new array with interval"
   ]
  },
  {
   "cell_type": "code",
   "execution_count": 10,
   "metadata": {},
   "outputs": [
    {
     "data": {
      "text/plain": [
       "array([ 1,  3,  5,  7,  9, 11, 13, 15, 17, 19])"
      ]
     },
     "execution_count": 10,
     "metadata": {},
     "output_type": "execute_result"
    }
   ],
   "source": [
    "# 1 - start value\n",
    "# 20 - end value\n",
    "# 2 - step value\n",
    "array_of_odds = np.arange(1,20,2)\n",
    "array_of_odds"
   ]
  },
  {
   "cell_type": "code",
   "execution_count": 11,
   "metadata": {},
   "outputs": [
    {
     "data": {
      "text/plain": [
       "array([0.  , 0.25, 0.5 , 0.75, 1.  , 1.25, 1.5 , 1.75, 2.  , 2.25, 2.5 ,\n",
       "       2.75])"
      ]
     },
     "execution_count": 11,
     "metadata": {},
     "output_type": "execute_result"
    }
   ],
   "source": [
    "array_of_floats = np.arange(0,3,0.25)\n",
    "array_of_floats"
   ]
  },
  {
   "cell_type": "markdown",
   "metadata": {},
   "source": [
    "#### Create 2d array"
   ]
  },
  {
   "cell_type": "code",
   "execution_count": 12,
   "metadata": {},
   "outputs": [
    {
     "data": {
      "text/plain": [
       "array([[1, 2, 3],\n",
       "       [4, 5, 6]])"
      ]
     },
     "execution_count": 12,
     "metadata": {},
     "output_type": "execute_result"
    }
   ],
   "source": [
    "array_2d = np.array([(1,2,3),(4,5,6)])\n",
    "array_2d"
   ]
  },
  {
   "cell_type": "markdown",
   "metadata": {},
   "source": [
    "#### Get dimension of an array"
   ]
  },
  {
   "cell_type": "code",
   "execution_count": 13,
   "metadata": {},
   "outputs": [
    {
     "data": {
      "text/plain": [
       "(2, 3)"
      ]
     },
     "execution_count": 13,
     "metadata": {},
     "output_type": "execute_result"
    }
   ],
   "source": [
    "array_2d.shape"
   ]
  },
  {
   "cell_type": "code",
   "execution_count": 14,
   "metadata": {},
   "outputs": [
    {
     "name": "stdout",
     "output_type": "stream",
     "text": [
      "2\n",
      "3\n"
     ]
    }
   ],
   "source": [
    "rows, columns = array_2d.shape\n",
    "print(rows)\n",
    "print(columns)"
   ]
  },
  {
   "cell_type": "markdown",
   "metadata": {},
   "source": [
    "#### Reshape an array"
   ]
  },
  {
   "cell_type": "code",
   "execution_count": 15,
   "metadata": {},
   "outputs": [
    {
     "data": {
      "text/plain": [
       "array([[0, 1, 2],\n",
       "       [3, 4, 5]])"
      ]
     },
     "execution_count": 15,
     "metadata": {},
     "output_type": "execute_result"
    }
   ],
   "source": [
    "# 2 - rows\n",
    "# 3 - columns\n",
    "array_nd = np.arange(6).reshape(2,3)\n",
    "array_nd"
   ]
  },
  {
   "cell_type": "markdown",
   "metadata": {},
   "source": [
    "## Print Array"
   ]
  },
  {
   "cell_type": "markdown",
   "metadata": {},
   "source": [
    "#### 1d Array"
   ]
  },
  {
   "cell_type": "code",
   "execution_count": 16,
   "metadata": {},
   "outputs": [
    {
     "name": "stdout",
     "output_type": "stream",
     "text": [
      "[0 1 2 3 4]\n"
     ]
    }
   ],
   "source": [
    "a1 = np.arange(5)\n",
    "print(a1)"
   ]
  },
  {
   "cell_type": "markdown",
   "metadata": {},
   "source": [
    "#### 2d Array"
   ]
  },
  {
   "cell_type": "code",
   "execution_count": 17,
   "metadata": {},
   "outputs": [
    {
     "name": "stdout",
     "output_type": "stream",
     "text": [
      "[[ 0  1  2  3]\n",
      " [ 4  5  6  7]\n",
      " [ 8  9 10 11]]\n"
     ]
    }
   ],
   "source": [
    "a2 = np.arange(12).reshape(3,4)\n",
    "print(a2)"
   ]
  },
  {
   "cell_type": "markdown",
   "metadata": {},
   "source": [
    "#### Nd Array"
   ]
  },
  {
   "cell_type": "code",
   "execution_count": 18,
   "metadata": {},
   "outputs": [
    {
     "name": "stdout",
     "output_type": "stream",
     "text": [
      "[[[ 0  1  2  3]\n",
      "  [ 4  5  6  7]\n",
      "  [ 8  9 10 11]]\n",
      "\n",
      " [[12 13 14 15]\n",
      "  [16 17 18 19]\n",
      "  [20 21 22 23]]]\n"
     ]
    }
   ],
   "source": [
    "# here it interpretes two arrays of 3x4 dimension\n",
    "a3 = np.arange(24).reshape(2,3,4)\n",
    "print(a3)"
   ]
  },
  {
   "cell_type": "code",
   "execution_count": 19,
   "metadata": {},
   "outputs": [
    {
     "name": "stdout",
     "output_type": "stream",
     "text": [
      "[   0    1    2 ... 1597 1598 1599]\n"
     ]
    }
   ],
   "source": [
    "print(np.arange(1600))"
   ]
  },
  {
   "cell_type": "code",
   "execution_count": 20,
   "metadata": {},
   "outputs": [
    {
     "name": "stdout",
     "output_type": "stream",
     "text": [
      "[[   0    1    2 ...   37   38   39]\n",
      " [  40   41   42 ...   77   78   79]\n",
      " [  80   81   82 ...  117  118  119]\n",
      " ...\n",
      " [1480 1481 1482 ... 1517 1518 1519]\n",
      " [1520 1521 1522 ... 1557 1558 1559]\n",
      " [1560 1561 1562 ... 1597 1598 1599]]\n"
     ]
    }
   ],
   "source": [
    "print(np.arange(1600).reshape(40,40))"
   ]
  },
  {
   "cell_type": "code",
   "execution_count": 21,
   "metadata": {},
   "outputs": [
    {
     "name": "stdout",
     "output_type": "stream",
     "text": [
      "[[   0    1    2    3    4    5    6    7    8    9   10   11   12   13\n",
      "    14   15   16   17   18   19   20   21   22   23   24   25   26   27\n",
      "    28   29   30   31   32   33   34   35   36   37   38   39]\n",
      " [  40   41   42   43   44   45   46   47   48   49   50   51   52   53\n",
      "    54   55   56   57   58   59   60   61   62   63   64   65   66   67\n",
      "    68   69   70   71   72   73   74   75   76   77   78   79]\n",
      " [  80   81   82   83   84   85   86   87   88   89   90   91   92   93\n",
      "    94   95   96   97   98   99  100  101  102  103  104  105  106  107\n",
      "   108  109  110  111  112  113  114  115  116  117  118  119]\n",
      " [ 120  121  122  123  124  125  126  127  128  129  130  131  132  133\n",
      "   134  135  136  137  138  139  140  141  142  143  144  145  146  147\n",
      "   148  149  150  151  152  153  154  155  156  157  158  159]\n",
      " [ 160  161  162  163  164  165  166  167  168  169  170  171  172  173\n",
      "   174  175  176  177  178  179  180  181  182  183  184  185  186  187\n",
      "   188  189  190  191  192  193  194  195  196  197  198  199]\n",
      " [ 200  201  202  203  204  205  206  207  208  209  210  211  212  213\n",
      "   214  215  216  217  218  219  220  221  222  223  224  225  226  227\n",
      "   228  229  230  231  232  233  234  235  236  237  238  239]\n",
      " [ 240  241  242  243  244  245  246  247  248  249  250  251  252  253\n",
      "   254  255  256  257  258  259  260  261  262  263  264  265  266  267\n",
      "   268  269  270  271  272  273  274  275  276  277  278  279]\n",
      " [ 280  281  282  283  284  285  286  287  288  289  290  291  292  293\n",
      "   294  295  296  297  298  299  300  301  302  303  304  305  306  307\n",
      "   308  309  310  311  312  313  314  315  316  317  318  319]\n",
      " [ 320  321  322  323  324  325  326  327  328  329  330  331  332  333\n",
      "   334  335  336  337  338  339  340  341  342  343  344  345  346  347\n",
      "   348  349  350  351  352  353  354  355  356  357  358  359]\n",
      " [ 360  361  362  363  364  365  366  367  368  369  370  371  372  373\n",
      "   374  375  376  377  378  379  380  381  382  383  384  385  386  387\n",
      "   388  389  390  391  392  393  394  395  396  397  398  399]\n",
      " [ 400  401  402  403  404  405  406  407  408  409  410  411  412  413\n",
      "   414  415  416  417  418  419  420  421  422  423  424  425  426  427\n",
      "   428  429  430  431  432  433  434  435  436  437  438  439]\n",
      " [ 440  441  442  443  444  445  446  447  448  449  450  451  452  453\n",
      "   454  455  456  457  458  459  460  461  462  463  464  465  466  467\n",
      "   468  469  470  471  472  473  474  475  476  477  478  479]\n",
      " [ 480  481  482  483  484  485  486  487  488  489  490  491  492  493\n",
      "   494  495  496  497  498  499  500  501  502  503  504  505  506  507\n",
      "   508  509  510  511  512  513  514  515  516  517  518  519]\n",
      " [ 520  521  522  523  524  525  526  527  528  529  530  531  532  533\n",
      "   534  535  536  537  538  539  540  541  542  543  544  545  546  547\n",
      "   548  549  550  551  552  553  554  555  556  557  558  559]\n",
      " [ 560  561  562  563  564  565  566  567  568  569  570  571  572  573\n",
      "   574  575  576  577  578  579  580  581  582  583  584  585  586  587\n",
      "   588  589  590  591  592  593  594  595  596  597  598  599]\n",
      " [ 600  601  602  603  604  605  606  607  608  609  610  611  612  613\n",
      "   614  615  616  617  618  619  620  621  622  623  624  625  626  627\n",
      "   628  629  630  631  632  633  634  635  636  637  638  639]\n",
      " [ 640  641  642  643  644  645  646  647  648  649  650  651  652  653\n",
      "   654  655  656  657  658  659  660  661  662  663  664  665  666  667\n",
      "   668  669  670  671  672  673  674  675  676  677  678  679]\n",
      " [ 680  681  682  683  684  685  686  687  688  689  690  691  692  693\n",
      "   694  695  696  697  698  699  700  701  702  703  704  705  706  707\n",
      "   708  709  710  711  712  713  714  715  716  717  718  719]\n",
      " [ 720  721  722  723  724  725  726  727  728  729  730  731  732  733\n",
      "   734  735  736  737  738  739  740  741  742  743  744  745  746  747\n",
      "   748  749  750  751  752  753  754  755  756  757  758  759]\n",
      " [ 760  761  762  763  764  765  766  767  768  769  770  771  772  773\n",
      "   774  775  776  777  778  779  780  781  782  783  784  785  786  787\n",
      "   788  789  790  791  792  793  794  795  796  797  798  799]\n",
      " [ 800  801  802  803  804  805  806  807  808  809  810  811  812  813\n",
      "   814  815  816  817  818  819  820  821  822  823  824  825  826  827\n",
      "   828  829  830  831  832  833  834  835  836  837  838  839]\n",
      " [ 840  841  842  843  844  845  846  847  848  849  850  851  852  853\n",
      "   854  855  856  857  858  859  860  861  862  863  864  865  866  867\n",
      "   868  869  870  871  872  873  874  875  876  877  878  879]\n",
      " [ 880  881  882  883  884  885  886  887  888  889  890  891  892  893\n",
      "   894  895  896  897  898  899  900  901  902  903  904  905  906  907\n",
      "   908  909  910  911  912  913  914  915  916  917  918  919]\n",
      " [ 920  921  922  923  924  925  926  927  928  929  930  931  932  933\n",
      "   934  935  936  937  938  939  940  941  942  943  944  945  946  947\n",
      "   948  949  950  951  952  953  954  955  956  957  958  959]\n",
      " [ 960  961  962  963  964  965  966  967  968  969  970  971  972  973\n",
      "   974  975  976  977  978  979  980  981  982  983  984  985  986  987\n",
      "   988  989  990  991  992  993  994  995  996  997  998  999]\n",
      " [1000 1001 1002 1003 1004 1005 1006 1007 1008 1009 1010 1011 1012 1013\n",
      "  1014 1015 1016 1017 1018 1019 1020 1021 1022 1023 1024 1025 1026 1027\n",
      "  1028 1029 1030 1031 1032 1033 1034 1035 1036 1037 1038 1039]\n",
      " [1040 1041 1042 1043 1044 1045 1046 1047 1048 1049 1050 1051 1052 1053\n",
      "  1054 1055 1056 1057 1058 1059 1060 1061 1062 1063 1064 1065 1066 1067\n",
      "  1068 1069 1070 1071 1072 1073 1074 1075 1076 1077 1078 1079]\n",
      " [1080 1081 1082 1083 1084 1085 1086 1087 1088 1089 1090 1091 1092 1093\n",
      "  1094 1095 1096 1097 1098 1099 1100 1101 1102 1103 1104 1105 1106 1107\n",
      "  1108 1109 1110 1111 1112 1113 1114 1115 1116 1117 1118 1119]\n",
      " [1120 1121 1122 1123 1124 1125 1126 1127 1128 1129 1130 1131 1132 1133\n",
      "  1134 1135 1136 1137 1138 1139 1140 1141 1142 1143 1144 1145 1146 1147\n",
      "  1148 1149 1150 1151 1152 1153 1154 1155 1156 1157 1158 1159]\n",
      " [1160 1161 1162 1163 1164 1165 1166 1167 1168 1169 1170 1171 1172 1173\n",
      "  1174 1175 1176 1177 1178 1179 1180 1181 1182 1183 1184 1185 1186 1187\n",
      "  1188 1189 1190 1191 1192 1193 1194 1195 1196 1197 1198 1199]\n",
      " [1200 1201 1202 1203 1204 1205 1206 1207 1208 1209 1210 1211 1212 1213\n",
      "  1214 1215 1216 1217 1218 1219 1220 1221 1222 1223 1224 1225 1226 1227\n",
      "  1228 1229 1230 1231 1232 1233 1234 1235 1236 1237 1238 1239]\n",
      " [1240 1241 1242 1243 1244 1245 1246 1247 1248 1249 1250 1251 1252 1253\n",
      "  1254 1255 1256 1257 1258 1259 1260 1261 1262 1263 1264 1265 1266 1267\n",
      "  1268 1269 1270 1271 1272 1273 1274 1275 1276 1277 1278 1279]\n",
      " [1280 1281 1282 1283 1284 1285 1286 1287 1288 1289 1290 1291 1292 1293\n",
      "  1294 1295 1296 1297 1298 1299 1300 1301 1302 1303 1304 1305 1306 1307\n",
      "  1308 1309 1310 1311 1312 1313 1314 1315 1316 1317 1318 1319]\n",
      " [1320 1321 1322 1323 1324 1325 1326 1327 1328 1329 1330 1331 1332 1333\n",
      "  1334 1335 1336 1337 1338 1339 1340 1341 1342 1343 1344 1345 1346 1347\n",
      "  1348 1349 1350 1351 1352 1353 1354 1355 1356 1357 1358 1359]\n",
      " [1360 1361 1362 1363 1364 1365 1366 1367 1368 1369 1370 1371 1372 1373\n",
      "  1374 1375 1376 1377 1378 1379 1380 1381 1382 1383 1384 1385 1386 1387\n",
      "  1388 1389 1390 1391 1392 1393 1394 1395 1396 1397 1398 1399]\n",
      " [1400 1401 1402 1403 1404 1405 1406 1407 1408 1409 1410 1411 1412 1413\n",
      "  1414 1415 1416 1417 1418 1419 1420 1421 1422 1423 1424 1425 1426 1427\n",
      "  1428 1429 1430 1431 1432 1433 1434 1435 1436 1437 1438 1439]\n",
      " [1440 1441 1442 1443 1444 1445 1446 1447 1448 1449 1450 1451 1452 1453\n",
      "  1454 1455 1456 1457 1458 1459 1460 1461 1462 1463 1464 1465 1466 1467\n",
      "  1468 1469 1470 1471 1472 1473 1474 1475 1476 1477 1478 1479]\n",
      " [1480 1481 1482 1483 1484 1485 1486 1487 1488 1489 1490 1491 1492 1493\n",
      "  1494 1495 1496 1497 1498 1499 1500 1501 1502 1503 1504 1505 1506 1507\n",
      "  1508 1509 1510 1511 1512 1513 1514 1515 1516 1517 1518 1519]\n",
      " [1520 1521 1522 1523 1524 1525 1526 1527 1528 1529 1530 1531 1532 1533\n",
      "  1534 1535 1536 1537 1538 1539 1540 1541 1542 1543 1544 1545 1546 1547\n",
      "  1548 1549 1550 1551 1552 1553 1554 1555 1556 1557 1558 1559]\n",
      " [1560 1561 1562 1563 1564 1565 1566 1567 1568 1569 1570 1571 1572 1573\n",
      "  1574 1575 1576 1577 1578 1579 1580 1581 1582 1583 1584 1585 1586 1587\n",
      "  1588 1589 1590 1591 1592 1593 1594 1595 1596 1597 1598 1599]]\n"
     ]
    }
   ],
   "source": [
    "import sys\n",
    "np.set_printoptions(threshold=sys.maxsize)\n",
    "print(np.arange(1600).reshape(40,40))"
   ]
  },
  {
   "cell_type": "code",
   "execution_count": 22,
   "metadata": {},
   "outputs": [
    {
     "name": "stdout",
     "output_type": "stream",
     "text": [
      "[[   0    1    2 ...   37   38   39]\n",
      " [  40   41   42 ...   77   78   79]\n",
      " [  80   81   82 ...  117  118  119]\n",
      " ...\n",
      " [1480 1481 1482 ... 1517 1518 1519]\n",
      " [1520 1521 1522 ... 1557 1558 1559]\n",
      " [1560 1561 1562 ... 1597 1598 1599]]\n"
     ]
    }
   ],
   "source": [
    "#default is 1000\n",
    "np.set_printoptions(threshold=1000)\n",
    "print(np.arange(1600).reshape(40,40))"
   ]
  },
  {
   "cell_type": "markdown",
   "metadata": {},
   "source": [
    "## Array Operations"
   ]
  },
  {
   "cell_type": "code",
   "execution_count": 23,
   "metadata": {},
   "outputs": [],
   "source": [
    "a = np.array([10,10,10])\n",
    "b = np.array([5,5,5])"
   ]
  },
  {
   "cell_type": "markdown",
   "metadata": {},
   "source": [
    "#### Addition"
   ]
  },
  {
   "cell_type": "code",
   "execution_count": 24,
   "metadata": {},
   "outputs": [
    {
     "data": {
      "text/plain": [
       "array([15, 15, 15])"
      ]
     },
     "execution_count": 24,
     "metadata": {},
     "output_type": "execute_result"
    }
   ],
   "source": [
    "a+b"
   ]
  },
  {
   "cell_type": "markdown",
   "metadata": {},
   "source": [
    "#### Subtraction"
   ]
  },
  {
   "cell_type": "code",
   "execution_count": 25,
   "metadata": {},
   "outputs": [
    {
     "data": {
      "text/plain": [
       "array([5, 5, 5])"
      ]
     },
     "execution_count": 25,
     "metadata": {},
     "output_type": "execute_result"
    }
   ],
   "source": [
    "a-b"
   ]
  },
  {
   "cell_type": "markdown",
   "metadata": {},
   "source": [
    "#### Multiplication"
   ]
  },
  {
   "cell_type": "code",
   "execution_count": 26,
   "metadata": {},
   "outputs": [
    {
     "data": {
      "text/plain": [
       "array([50, 50, 50])"
      ]
     },
     "execution_count": 26,
     "metadata": {},
     "output_type": "execute_result"
    }
   ],
   "source": [
    "a*b"
   ]
  },
  {
   "cell_type": "markdown",
   "metadata": {},
   "source": [
    "#### Division"
   ]
  },
  {
   "cell_type": "code",
   "execution_count": 27,
   "metadata": {},
   "outputs": [
    {
     "data": {
      "text/plain": [
       "array([2., 2., 2.])"
      ]
     },
     "execution_count": 27,
     "metadata": {},
     "output_type": "execute_result"
    }
   ],
   "source": [
    "a/b"
   ]
  },
  {
   "cell_type": "markdown",
   "metadata": {},
   "source": [
    "#### Modulus"
   ]
  },
  {
   "cell_type": "code",
   "execution_count": 28,
   "metadata": {},
   "outputs": [
    {
     "data": {
      "text/plain": [
       "array([1, 1, 1])"
      ]
     },
     "execution_count": 28,
     "metadata": {},
     "output_type": "execute_result"
    }
   ],
   "source": [
    "a%3"
   ]
  },
  {
   "cell_type": "markdown",
   "metadata": {},
   "source": [
    "#### Conditional Operators"
   ]
  },
  {
   "cell_type": "code",
   "execution_count": 29,
   "metadata": {},
   "outputs": [
    {
     "data": {
      "text/plain": [
       "array([ True,  True,  True])"
      ]
     },
     "execution_count": 29,
     "metadata": {},
     "output_type": "execute_result"
    }
   ],
   "source": [
    "a<15"
   ]
  },
  {
   "cell_type": "code",
   "execution_count": 30,
   "metadata": {},
   "outputs": [
    {
     "data": {
      "text/plain": [
       "array([False, False, False])"
      ]
     },
     "execution_count": 30,
     "metadata": {},
     "output_type": "execute_result"
    }
   ],
   "source": [
    "b>15"
   ]
  },
  {
   "cell_type": "markdown",
   "metadata": {},
   "source": [
    "#### Nd Multiplication"
   ]
  },
  {
   "cell_type": "code",
   "execution_count": 31,
   "metadata": {},
   "outputs": [
    {
     "name": "stdout",
     "output_type": "stream",
     "text": [
      "A:\n",
      " [[1 2]\n",
      " [3 4]]\n",
      "B:\n",
      " [[4 3]\n",
      " [2 1]]\n"
     ]
    }
   ],
   "source": [
    "A = np.array([(1,2),(3,4)])\n",
    "B = np.array([(4,3),(2,1)])\n",
    "\n",
    "print('A:\\n',A)\n",
    "print('B:\\n',B)"
   ]
  },
  {
   "cell_type": "code",
   "execution_count": 32,
   "metadata": {},
   "outputs": [
    {
     "data": {
      "text/plain": [
       "array([[4, 6],\n",
       "       [6, 4]])"
      ]
     },
     "execution_count": 32,
     "metadata": {},
     "output_type": "execute_result"
    }
   ],
   "source": [
    "A * B"
   ]
  },
  {
   "cell_type": "markdown",
   "metadata": {},
   "source": [
    "#### Dot Mulitplication"
   ]
  },
  {
   "cell_type": "code",
   "execution_count": 33,
   "metadata": {},
   "outputs": [
    {
     "data": {
      "text/plain": [
       "array([[ 8,  5],\n",
       "       [20, 13]])"
      ]
     },
     "execution_count": 33,
     "metadata": {},
     "output_type": "execute_result"
    }
   ],
   "source": [
    "A.dot(B)"
   ]
  },
  {
   "cell_type": "code",
   "execution_count": 34,
   "metadata": {},
   "outputs": [
    {
     "data": {
      "text/plain": [
       "array([[ 8,  5],\n",
       "       [20, 13]])"
      ]
     },
     "execution_count": 34,
     "metadata": {},
     "output_type": "execute_result"
    }
   ],
   "source": [
    "np.dot(A,B)"
   ]
  },
  {
   "cell_type": "markdown",
   "metadata": {},
   "source": [
    "#### Self Assignment Operators"
   ]
  },
  {
   "cell_type": "code",
   "execution_count": 35,
   "metadata": {},
   "outputs": [
    {
     "data": {
      "text/plain": [
       "array([20, 20, 20])"
      ]
     },
     "execution_count": 35,
     "metadata": {},
     "output_type": "execute_result"
    }
   ],
   "source": [
    "a *= 2\n",
    "a"
   ]
  },
  {
   "cell_type": "code",
   "execution_count": 36,
   "metadata": {},
   "outputs": [
    {
     "data": {
      "text/plain": [
       "array([25, 25, 25])"
      ]
     },
     "execution_count": 36,
     "metadata": {},
     "output_type": "execute_result"
    }
   ],
   "source": [
    "b += a\n",
    "b"
   ]
  },
  {
   "cell_type": "markdown",
   "metadata": {},
   "source": [
    "#### Basic Functions"
   ]
  },
  {
   "cell_type": "code",
   "execution_count": 37,
   "metadata": {},
   "outputs": [],
   "source": [
    "ages = np.array([10,8,7,12])"
   ]
  },
  {
   "cell_type": "code",
   "execution_count": 38,
   "metadata": {},
   "outputs": [
    {
     "data": {
      "text/plain": [
       "37"
      ]
     },
     "execution_count": 38,
     "metadata": {},
     "output_type": "execute_result"
    }
   ],
   "source": [
    "ages.sum()"
   ]
  },
  {
   "cell_type": "code",
   "execution_count": 39,
   "metadata": {},
   "outputs": [
    {
     "data": {
      "text/plain": [
       "7"
      ]
     },
     "execution_count": 39,
     "metadata": {},
     "output_type": "execute_result"
    }
   ],
   "source": [
    "ages.min()"
   ]
  },
  {
   "cell_type": "code",
   "execution_count": 40,
   "metadata": {},
   "outputs": [
    {
     "data": {
      "text/plain": [
       "12"
      ]
     },
     "execution_count": 40,
     "metadata": {},
     "output_type": "execute_result"
    }
   ],
   "source": [
    "ages.max()"
   ]
  },
  {
   "cell_type": "code",
   "execution_count": 41,
   "metadata": {},
   "outputs": [
    {
     "data": {
      "text/plain": [
       "array([[ 0,  1,  2,  3],\n",
       "       [ 4,  5,  6,  7],\n",
       "       [ 8,  9, 10, 11]])"
      ]
     },
     "execution_count": 41,
     "metadata": {},
     "output_type": "execute_result"
    }
   ],
   "source": [
    "numbers = np.arange(12).reshape(3,4)\n",
    "numbers"
   ]
  },
  {
   "cell_type": "code",
   "execution_count": 42,
   "metadata": {},
   "outputs": [
    {
     "data": {
      "text/plain": [
       "array([12, 15, 18, 21])"
      ]
     },
     "execution_count": 42,
     "metadata": {},
     "output_type": "execute_result"
    }
   ],
   "source": [
    "# here axis=0 means columns\n",
    "numbers.sum(axis=0)"
   ]
  },
  {
   "cell_type": "code",
   "execution_count": 43,
   "metadata": {},
   "outputs": [
    {
     "data": {
      "text/plain": [
       "array([ 6, 22, 38])"
      ]
     },
     "execution_count": 43,
     "metadata": {},
     "output_type": "execute_result"
    }
   ],
   "source": [
    "# here axis=1 means rows\n",
    "numbers.sum(axis=1)"
   ]
  },
  {
   "cell_type": "code",
   "execution_count": 44,
   "metadata": {},
   "outputs": [
    {
     "data": {
      "text/plain": [
       "array([ 8,  9, 10, 11])"
      ]
     },
     "execution_count": 44,
     "metadata": {},
     "output_type": "execute_result"
    }
   ],
   "source": [
    "# here axis=0 means columns\n",
    "numbers.max(axis=0)"
   ]
  },
  {
   "cell_type": "code",
   "execution_count": 45,
   "metadata": {},
   "outputs": [
    {
     "data": {
      "text/plain": [
       "array([0, 4, 8])"
      ]
     },
     "execution_count": 45,
     "metadata": {},
     "output_type": "execute_result"
    }
   ],
   "source": [
    "# here axis=1 means rows\n",
    "numbers.min(axis=1)"
   ]
  },
  {
   "cell_type": "markdown",
   "metadata": {},
   "source": [
    "## Universal Functions"
   ]
  },
  {
   "cell_type": "markdown",
   "metadata": {},
   "source": [
    "### Mathematical Functions"
   ]
  },
  {
   "cell_type": "code",
   "execution_count": 46,
   "metadata": {},
   "outputs": [],
   "source": [
    "angles = np.array([0,30,45,60,90])"
   ]
  },
  {
   "cell_type": "code",
   "execution_count": 47,
   "metadata": {},
   "outputs": [
    {
     "data": {
      "text/plain": [
       "array([0.        , 0.52359878, 0.78539816, 1.04719755, 1.57079633])"
      ]
     },
     "execution_count": 47,
     "metadata": {},
     "output_type": "execute_result"
    }
   ],
   "source": [
    "angle_radians = angles * np.pi/180\n",
    "angle_radians"
   ]
  },
  {
   "cell_type": "code",
   "execution_count": 48,
   "metadata": {},
   "outputs": [
    {
     "name": "stdout",
     "output_type": "stream",
     "text": [
      "[0.         0.5        0.70710678 0.8660254  1.        ]\n"
     ]
    }
   ],
   "source": [
    "print(np.sin(angle_radians))"
   ]
  },
  {
   "cell_type": "code",
   "execution_count": 49,
   "metadata": {},
   "outputs": [
    {
     "data": {
      "text/plain": [
       "array([0.        , 0.52359878, 0.78539816, 1.04719755, 1.57079633])"
      ]
     },
     "execution_count": 49,
     "metadata": {},
     "output_type": "execute_result"
    }
   ],
   "source": [
    "angle_radians = np.radians(angles)\n",
    "angle_radians"
   ]
  },
  {
   "cell_type": "code",
   "execution_count": 50,
   "metadata": {},
   "outputs": [
    {
     "name": "stdout",
     "output_type": "stream",
     "text": [
      "[1.00000000e+00 8.66025404e-01 7.07106781e-01 5.00000000e-01\n",
      " 6.12323400e-17]\n"
     ]
    }
   ],
   "source": [
    "print(np.cos(angle_radians))"
   ]
  },
  {
   "cell_type": "code",
   "execution_count": 51,
   "metadata": {},
   "outputs": [
    {
     "name": "stdout",
     "output_type": "stream",
     "text": [
      "[0.00000000e+00 5.77350269e-01 1.00000000e+00 1.73205081e+00\n",
      " 1.63312394e+16]\n"
     ]
    }
   ],
   "source": [
    "print(np.tan(angle_radians))"
   ]
  },
  {
   "cell_type": "code",
   "execution_count": 52,
   "metadata": {},
   "outputs": [
    {
     "name": "stdout",
     "output_type": "stream",
     "text": [
      "[0.         0.52359878 0.78539816 1.04719755 1.57079633]\n"
     ]
    }
   ],
   "source": [
    "sin = np.sin(angle_radians)\n",
    "inv = np.arcsin(sin)\n",
    "print(inv)"
   ]
  },
  {
   "cell_type": "code",
   "execution_count": 53,
   "metadata": {},
   "outputs": [
    {
     "name": "stdout",
     "output_type": "stream",
     "text": [
      "[0.         0.52359878 0.78539816 1.04719755 1.57079633]\n"
     ]
    }
   ],
   "source": [
    "cos = np.cos(angle_radians)\n",
    "inv = np.arccos(cos)\n",
    "print(inv)"
   ]
  },
  {
   "cell_type": "code",
   "execution_count": 54,
   "metadata": {},
   "outputs": [
    {
     "data": {
      "text/plain": [
       "array([ 0., 30., 45., 60., 90.])"
      ]
     },
     "execution_count": 54,
     "metadata": {},
     "output_type": "execute_result"
    }
   ],
   "source": [
    "np.degrees(angle_radians)"
   ]
  },
  {
   "cell_type": "markdown",
   "metadata": {},
   "source": [
    "### Statistical Functions"
   ]
  },
  {
   "cell_type": "code",
   "execution_count": 55,
   "metadata": {},
   "outputs": [
    {
     "name": "stdout",
     "output_type": "stream",
     "text": [
      "[31 53 97 86 12 76 74 54 64 60 66 87 54 73 65]\n"
     ]
    }
   ],
   "source": [
    "marks = np.array([31,53,97,86,12,76,74,54,64,60,66,87,54,73,65])\n",
    "print(marks)"
   ]
  },
  {
   "cell_type": "code",
   "execution_count": 56,
   "metadata": {},
   "outputs": [
    {
     "data": {
      "text/plain": [
       "65.0"
      ]
     },
     "execution_count": 56,
     "metadata": {},
     "output_type": "execute_result"
    }
   ],
   "source": [
    "np.median(marks)"
   ]
  },
  {
   "cell_type": "code",
   "execution_count": 57,
   "metadata": {},
   "outputs": [
    {
     "name": "stdout",
     "output_type": "stream",
     "text": [
      "Mean = 63\n",
      "Median = 65\n",
      "Standard Deviation = 20\n",
      "Variance = 437\n"
     ]
    }
   ],
   "source": [
    "mean     = np.mean(marks)\n",
    "median     = np.median(marks)\n",
    "sd       = np.std(marks)\n",
    "variance = np.var(marks)\n",
    "\n",
    "print(\"Mean = %i\"%mean)\n",
    "print(\"Median = %i\"%median)\n",
    "print(\"Standard Deviation = %i\"%sd)\n",
    "print(\"Variance = %i\"%variance)"
   ]
  },
  {
   "cell_type": "markdown",
   "metadata": {},
   "source": [
    "## Indexing and Slicing"
   ]
  },
  {
   "cell_type": "code",
   "execution_count": 58,
   "metadata": {},
   "outputs": [
    {
     "data": {
      "text/plain": [
       "array([ 0,  1,  4,  9, 16, 25, 36, 49, 64, 81])"
      ]
     },
     "execution_count": 58,
     "metadata": {},
     "output_type": "execute_result"
    }
   ],
   "source": [
    "a = np.arange(10)**2\n",
    "a"
   ]
  },
  {
   "cell_type": "code",
   "execution_count": 59,
   "metadata": {},
   "outputs": [
    {
     "data": {
      "text/plain": [
       "9"
      ]
     },
     "execution_count": 59,
     "metadata": {},
     "output_type": "execute_result"
    }
   ],
   "source": [
    "# first index is 0\n",
    "a[3]"
   ]
  },
  {
   "cell_type": "code",
   "execution_count": 60,
   "metadata": {},
   "outputs": [
    {
     "data": {
      "text/plain": [
       "49"
      ]
     },
     "execution_count": 60,
     "metadata": {},
     "output_type": "execute_result"
    }
   ],
   "source": [
    "# last index is -1\n",
    "a[-3]"
   ]
  },
  {
   "cell_type": "code",
   "execution_count": 61,
   "metadata": {},
   "outputs": [
    {
     "data": {
      "text/plain": [
       "array([ 4,  9, 16, 25])"
      ]
     },
     "execution_count": 61,
     "metadata": {},
     "output_type": "execute_result"
    }
   ],
   "source": [
    "# index 2 is included and index 6 is excluded\n",
    "a[2:6]"
   ]
  },
  {
   "cell_type": "code",
   "execution_count": 62,
   "metadata": {},
   "outputs": [
    {
     "data": {
      "text/plain": [
       "array([ 4,  9, 16, 25, 36, 49, 64, 81])"
      ]
     },
     "execution_count": 62,
     "metadata": {},
     "output_type": "execute_result"
    }
   ],
   "source": [
    "a[2:]"
   ]
  },
  {
   "cell_type": "code",
   "execution_count": 63,
   "metadata": {},
   "outputs": [
    {
     "data": {
      "text/plain": [
       "array([ 0,  1,  4,  9, 16, 25])"
      ]
     },
     "execution_count": 63,
     "metadata": {},
     "output_type": "execute_result"
    }
   ],
   "source": [
    "a[:6]"
   ]
  },
  {
   "cell_type": "code",
   "execution_count": 64,
   "metadata": {},
   "outputs": [
    {
     "data": {
      "text/plain": [
       "array([ 0,  1,  4,  9, 16, 25, 36, 49])"
      ]
     },
     "execution_count": 64,
     "metadata": {},
     "output_type": "execute_result"
    }
   ],
   "source": [
    "a[:-2]"
   ]
  },
  {
   "cell_type": "code",
   "execution_count": 65,
   "metadata": {},
   "outputs": [
    {
     "data": {
      "text/plain": [
       "array([64, 81])"
      ]
     },
     "execution_count": 65,
     "metadata": {},
     "output_type": "execute_result"
    }
   ],
   "source": [
    "a[-2:]"
   ]
  },
  {
   "cell_type": "code",
   "execution_count": 66,
   "metadata": {},
   "outputs": [
    {
     "data": {
      "text/plain": [
       "array([ 0,  4, 16, 36])"
      ]
     },
     "execution_count": 66,
     "metadata": {},
     "output_type": "execute_result"
    }
   ],
   "source": [
    "# start: beginning\n",
    "# end: 7\n",
    "# step: 2\n",
    "a[:7:2]"
   ]
  },
  {
   "cell_type": "code",
   "execution_count": 67,
   "metadata": {},
   "outputs": [
    {
     "data": {
      "text/plain": [
       "array([81, 64, 49, 36, 25, 16,  9,  4,  1,  0])"
      ]
     },
     "execution_count": 67,
     "metadata": {},
     "output_type": "execute_result"
    }
   ],
   "source": [
    "# start: beginning\n",
    "# end: end\n",
    "# step: -1\n",
    "\n",
    "#Reverse of numpy array\n",
    "a[::-1]"
   ]
  },
  {
   "cell_type": "code",
   "execution_count": 68,
   "metadata": {},
   "outputs": [
    {
     "data": {
      "text/plain": [
       "array([['Amit', 'Arya', 'Jon', 'Cersie'],\n",
       "       ['65', '87', '43', '83'],\n",
       "       ['98', '43', '76', '57']], dtype='<U6')"
      ]
     },
     "execution_count": 68,
     "metadata": {},
     "output_type": "execute_result"
    }
   ],
   "source": [
    "students = np.array([['Amit','Arya','Jon','Cersie'],[65,87,43,83],[98,43,76,57]])\n",
    "students"
   ]
  },
  {
   "cell_type": "code",
   "execution_count": 69,
   "metadata": {},
   "outputs": [
    {
     "data": {
      "text/plain": [
       "array(['Amit', 'Arya', 'Jon', 'Cersie'], dtype='<U6')"
      ]
     },
     "execution_count": 69,
     "metadata": {},
     "output_type": "execute_result"
    }
   ],
   "source": [
    "students[0]"
   ]
  },
  {
   "cell_type": "code",
   "execution_count": 70,
   "metadata": {},
   "outputs": [
    {
     "data": {
      "text/plain": [
       "array(['65', '87', '43', '83'], dtype='<U6')"
      ]
     },
     "execution_count": 70,
     "metadata": {},
     "output_type": "execute_result"
    }
   ],
   "source": [
    "students[1]"
   ]
  },
  {
   "cell_type": "code",
   "execution_count": 71,
   "metadata": {},
   "outputs": [
    {
     "data": {
      "text/plain": [
       "'Arya'"
      ]
     },
     "execution_count": 71,
     "metadata": {},
     "output_type": "execute_result"
    }
   ],
   "source": [
    "students[0,1]"
   ]
  },
  {
   "cell_type": "code",
   "execution_count": 72,
   "metadata": {},
   "outputs": [
    {
     "data": {
      "text/plain": [
       "array([['Jon', 'Cersie'],\n",
       "       ['43', '83']], dtype='<U6')"
      ]
     },
     "execution_count": 72,
     "metadata": {},
     "output_type": "execute_result"
    }
   ],
   "source": [
    "# Intersection of 1st and 2nd row & 3nd and 4rd column\n",
    "students[0:2,2:4]"
   ]
  },
  {
   "cell_type": "code",
   "execution_count": 73,
   "metadata": {},
   "outputs": [
    {
     "data": {
      "text/plain": [
       "array([['Arya'],\n",
       "       ['87'],\n",
       "       ['43']], dtype='<U6')"
      ]
     },
     "execution_count": 73,
     "metadata": {},
     "output_type": "execute_result"
    }
   ],
   "source": [
    "# all rows of 1st column\n",
    "# here 2 is excluded\n",
    "students[:,1:2]"
   ]
  },
  {
   "cell_type": "code",
   "execution_count": 74,
   "metadata": {},
   "outputs": [
    {
     "data": {
      "text/plain": [
       "array([['Arya', 'Jon'],\n",
       "       ['87', '43'],\n",
       "       ['43', '76']], dtype='<U6')"
      ]
     },
     "execution_count": 74,
     "metadata": {},
     "output_type": "execute_result"
    }
   ],
   "source": [
    "# all rows of 1st and 2nd column\n",
    "# here 3 is excluded\n",
    "students[:,1:3]"
   ]
  },
  {
   "cell_type": "code",
   "execution_count": 75,
   "metadata": {},
   "outputs": [
    {
     "data": {
      "text/plain": [
       "array(['65', '87', '43', '83'], dtype='<U6')"
      ]
     },
     "execution_count": 75,
     "metadata": {},
     "output_type": "execute_result"
    }
   ],
   "source": [
    "#all columns of second last row\n",
    "students[-2,:]"
   ]
  },
  {
   "cell_type": "code",
   "execution_count": 76,
   "metadata": {},
   "outputs": [
    {
     "data": {
      "text/plain": [
       "array(['Amit', 'Arya', 'Jon', 'Cersie'], dtype='<U6')"
      ]
     },
     "execution_count": 76,
     "metadata": {},
     "output_type": "execute_result"
    }
   ],
   "source": [
    "# all columns of first row\n",
    "students[0,...]"
   ]
  },
  {
   "cell_type": "code",
   "execution_count": 77,
   "metadata": {},
   "outputs": [
    {
     "data": {
      "text/plain": [
       "array(['Arya', '87', '43'], dtype='<U6')"
      ]
     },
     "execution_count": 77,
     "metadata": {},
     "output_type": "execute_result"
    }
   ],
   "source": [
    "# all rows of 2nd column\n",
    "students[...,1]"
   ]
  },
  {
   "cell_type": "markdown",
   "metadata": {},
   "source": [
    "## Iterating over Arrays"
   ]
  },
  {
   "cell_type": "code",
   "execution_count": 78,
   "metadata": {},
   "outputs": [
    {
     "name": "stdout",
     "output_type": "stream",
     "text": [
      "[  0   1   4   9  16  25  36  49  64  81 100]\n"
     ]
    }
   ],
   "source": [
    "a = np.arange(11)**2\n",
    "print(a)"
   ]
  },
  {
   "cell_type": "code",
   "execution_count": 79,
   "metadata": {},
   "outputs": [
    {
     "name": "stdout",
     "output_type": "stream",
     "text": [
      "0.0\n",
      "1.0\n",
      "2.0\n",
      "3.0\n",
      "4.0\n",
      "5.0\n",
      "6.0\n",
      "7.0\n",
      "8.0\n",
      "9.0\n",
      "10.0\n"
     ]
    }
   ],
   "source": [
    "for i in a:\n",
    "    print(i**(1/2))"
   ]
  },
  {
   "cell_type": "code",
   "execution_count": 80,
   "metadata": {},
   "outputs": [
    {
     "name": "stdout",
     "output_type": "stream",
     "text": [
      "i =  ['Amit' 'Arya' 'Jon' 'Cersie']\n",
      "i =  ['65' '87' '43' '83']\n",
      "i =  ['98' '43' '76' '57']\n"
     ]
    }
   ],
   "source": [
    "students = np.array([['Amit','Arya','Jon','Cersie'],\n",
    "                     [65,87,43,83],\n",
    "                     [98,43,76,57]])\n",
    "for i in students:\n",
    "    print('i = ',i)"
   ]
  },
  {
   "cell_type": "markdown",
   "metadata": {},
   "source": [
    "#### Iterate using `flatten()`"
   ]
  },
  {
   "cell_type": "code",
   "execution_count": 81,
   "metadata": {},
   "outputs": [
    {
     "name": "stdout",
     "output_type": "stream",
     "text": [
      "Amit\n",
      "Arya\n",
      "Jon\n",
      "Cersie\n",
      "65\n",
      "87\n",
      "43\n",
      "83\n",
      "98\n",
      "43\n",
      "76\n",
      "57\n"
     ]
    }
   ],
   "source": [
    "for i in students.flatten():\n",
    "    print(i)"
   ]
  },
  {
   "cell_type": "code",
   "execution_count": 82,
   "metadata": {},
   "outputs": [
    {
     "name": "stdout",
     "output_type": "stream",
     "text": [
      "Amit\n",
      "65\n",
      "98\n",
      "Arya\n",
      "87\n",
      "43\n",
      "Jon\n",
      "43\n",
      "76\n",
      "Cersie\n",
      "83\n",
      "57\n"
     ]
    }
   ],
   "source": [
    "# order = 'F' means column flattening - elements in column appear together\n",
    "for i in students.flatten(order='F'):\n",
    "    print(i)"
   ]
  },
  {
   "cell_type": "code",
   "execution_count": 83,
   "metadata": {},
   "outputs": [
    {
     "name": "stdout",
     "output_type": "stream",
     "text": [
      "[[ 0  1  2  3]\n",
      " [ 4  5  6  7]\n",
      " [ 8  9 10 11]]\n"
     ]
    }
   ],
   "source": [
    "a = np.arange(12).reshape(3,4)\n",
    "print(a)"
   ]
  },
  {
   "cell_type": "markdown",
   "metadata": {},
   "source": [
    "#### Iterate using `nditer()`"
   ]
  },
  {
   "cell_type": "code",
   "execution_count": 84,
   "metadata": {},
   "outputs": [
    {
     "name": "stdout",
     "output_type": "stream",
     "text": [
      "0\n",
      "1\n",
      "2\n",
      "3\n",
      "4\n",
      "5\n",
      "6\n",
      "7\n",
      "8\n",
      "9\n",
      "10\n",
      "11\n"
     ]
    }
   ],
   "source": [
    "# nditer - iterate elements of one by one row\n",
    "for i in np.nditer(a):\n",
    "    print(i)"
   ]
  },
  {
   "cell_type": "code",
   "execution_count": 85,
   "metadata": {},
   "outputs": [
    {
     "name": "stdout",
     "output_type": "stream",
     "text": [
      "0\n",
      "4\n",
      "8\n",
      "1\n",
      "5\n",
      "9\n",
      "2\n",
      "6\n",
      "10\n",
      "3\n",
      "7\n",
      "11\n"
     ]
    }
   ],
   "source": [
    "# nditer - order = 'F' means iterate elements of one by one column\n",
    "for i in np.nditer(a,order='F'):\n",
    "    print(i)"
   ]
  },
  {
   "cell_type": "markdown",
   "metadata": {},
   "source": [
    "##### flatten vs nditer\n",
    "**flatten** actually returns a result array, **nditer** allows to iterate over elements"
   ]
  },
  {
   "cell_type": "markdown",
   "metadata": {},
   "source": [
    "##### `external_loop` flag in `nditer`\n",
    "\n",
    "`external_loop` returns an array."
   ]
  },
  {
   "cell_type": "code",
   "execution_count": 86,
   "metadata": {},
   "outputs": [
    {
     "name": "stdout",
     "output_type": "stream",
     "text": [
      "[0 4 8]\n",
      "[1 5 9]\n",
      "[ 2  6 10]\n",
      "[ 3  7 11]\n"
     ]
    }
   ],
   "source": [
    "for i in np.nditer(a,order='F',flags=['external_loop']):\n",
    "    print(i)"
   ]
  },
  {
   "cell_type": "markdown",
   "metadata": {},
   "source": [
    "##### `readwrite` op_flag in `nditer`"
   ]
  },
  {
   "cell_type": "code",
   "execution_count": 87,
   "metadata": {},
   "outputs": [
    {
     "name": "stderr",
     "output_type": "stream",
     "text": [
      "Traceback (most recent call last):\n",
      "  File \"<ipython-input-87-8c1815e8c528>\", line 6, in <module>\n",
      "    i[...] = i * i\n",
      "ValueError: assignment destination is read-only\n"
     ]
    }
   ],
   "source": [
    "import traceback\n",
    "a = np.arange(12).reshape(3,4)\n",
    "for i in np.nditer(a):\n",
    "    try:\n",
    "     # here arr is read only by default so it will throw error\n",
    "     i[...] = i * i\n",
    "    except ValueError:\n",
    "        traceback.print_exc()\n",
    "        break"
   ]
  },
  {
   "cell_type": "code",
   "execution_count": 88,
   "metadata": {},
   "outputs": [
    {
     "name": "stdout",
     "output_type": "stream",
     "text": [
      "[[  0   1   4   9]\n",
      " [ 16  25  36  49]\n",
      " [ 64  81 100 121]]\n"
     ]
    }
   ],
   "source": [
    "a = np.arange(12).reshape(3,4)\n",
    "for arr in np.nditer(a,op_flags = ['readwrite']):\n",
    "    arr[...] = arr * arr\n",
    "print(a)"
   ]
  },
  {
   "cell_type": "markdown",
   "metadata": {},
   "source": [
    "## Reshaping Arrays"
   ]
  },
  {
   "cell_type": "code",
   "execution_count": 89,
   "metadata": {},
   "outputs": [
    {
     "data": {
      "text/plain": [
       "array([['Rajkot', 'Ahmedabad', 'Mumbai'],\n",
       "       ['Chennai', 'Kolkata', 'Pune']], dtype='<U9')"
      ]
     },
     "execution_count": 89,
     "metadata": {},
     "output_type": "execute_result"
    }
   ],
   "source": [
    "cities = np.array([['Rajkot','Ahmedabad','Mumbai'],['Chennai','Kolkata','Pune']])\n",
    "cities"
   ]
  },
  {
   "cell_type": "code",
   "execution_count": 90,
   "metadata": {},
   "outputs": [
    {
     "data": {
      "text/plain": [
       "(2, 3)"
      ]
     },
     "execution_count": 90,
     "metadata": {},
     "output_type": "execute_result"
    }
   ],
   "source": [
    "cities.shape"
   ]
  },
  {
   "cell_type": "markdown",
   "metadata": {},
   "source": [
    "#### Flattening to a 1d array"
   ]
  },
  {
   "cell_type": "code",
   "execution_count": 91,
   "metadata": {},
   "outputs": [
    {
     "data": {
      "text/plain": [
       "array(['Rajkot', 'Ahmedabad', 'Mumbai', 'Chennai', 'Kolkata', 'Pune'],\n",
       "      dtype='<U9')"
      ]
     },
     "execution_count": 91,
     "metadata": {},
     "output_type": "execute_result"
    }
   ],
   "source": [
    "cities.ravel()"
   ]
  },
  {
   "cell_type": "markdown",
   "metadata": {},
   "source": [
    "#### Transpose of an array"
   ]
  },
  {
   "cell_type": "code",
   "execution_count": 92,
   "metadata": {},
   "outputs": [
    {
     "data": {
      "text/plain": [
       "array([['Rajkot', 'Chennai'],\n",
       "       ['Ahmedabad', 'Kolkata'],\n",
       "       ['Mumbai', 'Pune']], dtype='<U9')"
      ]
     },
     "execution_count": 92,
     "metadata": {},
     "output_type": "execute_result"
    }
   ],
   "source": [
    "cities.T"
   ]
  },
  {
   "cell_type": "code",
   "execution_count": 93,
   "metadata": {},
   "outputs": [
    {
     "data": {
      "text/plain": [
       "array(['Rajkot', 'Chennai', 'Ahmedabad', 'Kolkata', 'Mumbai', 'Pune'],\n",
       "      dtype='<U9')"
      ]
     },
     "execution_count": 93,
     "metadata": {},
     "output_type": "execute_result"
    }
   ],
   "source": [
    "cities.T.ravel()\n",
    "#element in differnt orders"
   ]
  },
  {
   "cell_type": "markdown",
   "metadata": {},
   "source": [
    "#### Reshape an Array"
   ]
  },
  {
   "cell_type": "code",
   "execution_count": 94,
   "metadata": {},
   "outputs": [
    {
     "name": "stdout",
     "output_type": "stream",
     "text": [
      "[['Rajkot' 'Ahmedabad' 'Mumbai']\n",
      " ['Chennai' 'Kolkata' 'Pune']]\n"
     ]
    },
    {
     "data": {
      "text/plain": [
       "array([['Rajkot', 'Ahmedabad'],\n",
       "       ['Mumbai', 'Chennai'],\n",
       "       ['Kolkata', 'Pune']], dtype='<U9')"
      ]
     },
     "execution_count": 94,
     "metadata": {},
     "output_type": "execute_result"
    }
   ],
   "source": [
    "print(cities)\n",
    "cities.reshape(3,2)"
   ]
  },
  {
   "cell_type": "code",
   "execution_count": 95,
   "metadata": {},
   "outputs": [
    {
     "data": {
      "text/plain": [
       "array([[ 0,  1,  2,  3],\n",
       "       [ 4,  5,  6,  7],\n",
       "       [ 8,  9, 10, 11]])"
      ]
     },
     "execution_count": 95,
     "metadata": {},
     "output_type": "execute_result"
    }
   ],
   "source": [
    "np.arange(12).reshape(3,4)"
   ]
  },
  {
   "cell_type": "code",
   "execution_count": 96,
   "metadata": {},
   "outputs": [
    {
     "data": {
      "text/plain": [
       "array([[ 0,  1,  2],\n",
       "       [ 3,  4,  5],\n",
       "       [ 6,  7,  8],\n",
       "       [ 9, 10, 11]])"
      ]
     },
     "execution_count": 96,
     "metadata": {},
     "output_type": "execute_result"
    }
   ],
   "source": [
    "np.arange(12).reshape(4,3)"
   ]
  },
  {
   "cell_type": "code",
   "execution_count": 97,
   "metadata": {},
   "outputs": [
    {
     "name": "stderr",
     "output_type": "stream",
     "text": [
      "Traceback (most recent call last):\n",
      "  File \"<ipython-input-97-df19d88243b7>\", line 3, in <module>\n",
      "    np.arange(15).reshape(4,4)\n",
      "ValueError: cannot reshape array of size 15 into shape (4,4)\n"
     ]
    }
   ],
   "source": [
    "import traceback\n",
    "try:\n",
    "    np.arange(15).reshape(4,4)\n",
    "except ValueError:\n",
    "    traceback.print_exc()"
   ]
  },
  {
   "cell_type": "code",
   "execution_count": 98,
   "metadata": {},
   "outputs": [
    {
     "data": {
      "text/plain": [
       "array([['Rajkot', 'Ahmedabad', 'Mumbai'],\n",
       "       ['Chennai', 'Kolkata', 'Pune']], dtype='<U9')"
      ]
     },
     "execution_count": 98,
     "metadata": {},
     "output_type": "execute_result"
    }
   ],
   "source": [
    "# here negative number means we don't know number of rows\n",
    "# 3 columns\n",
    "cities.reshape(-1,3)"
   ]
  },
  {
   "cell_type": "code",
   "execution_count": 99,
   "metadata": {},
   "outputs": [
    {
     "data": {
      "text/plain": [
       "array([['Rajkot', 'Ahmedabad'],\n",
       "       ['Mumbai', 'Chennai'],\n",
       "       ['Kolkata', 'Pune']], dtype='<U9')"
      ]
     },
     "execution_count": 99,
     "metadata": {},
     "output_type": "execute_result"
    }
   ],
   "source": [
    "# here negative number means we don't know number of columns\n",
    "# 3 rows\n",
    "cities.reshape(3,-1)"
   ]
  },
  {
   "cell_type": "code",
   "execution_count": 100,
   "metadata": {},
   "outputs": [
    {
     "name": "stderr",
     "output_type": "stream",
     "text": [
      "Traceback (most recent call last):\n",
      "  File \"<ipython-input-100-b62991f143dc>\", line 3, in <module>\n",
      "    cities.reshape(4,-1)\n",
      "ValueError: cannot reshape array of size 6 into shape (4,newaxis)\n"
     ]
    }
   ],
   "source": [
    "import traceback\n",
    "try:\n",
    "    cities.reshape(4,-1)\n",
    "except ValueError:\n",
    "    traceback.print_exc()"
   ]
  },
  {
   "cell_type": "markdown",
   "metadata": {},
   "source": [
    "## Splitting an Array"
   ]
  },
  {
   "cell_type": "code",
   "execution_count": 101,
   "metadata": {},
   "outputs": [],
   "source": [
    "a = np.arange(9)"
   ]
  },
  {
   "cell_type": "code",
   "execution_count": 102,
   "metadata": {},
   "outputs": [
    {
     "data": {
      "text/plain": [
       "array([0, 1, 2, 3, 4, 5, 6, 7, 8])"
      ]
     },
     "execution_count": 102,
     "metadata": {},
     "output_type": "execute_result"
    }
   ],
   "source": [
    "a"
   ]
  },
  {
   "cell_type": "markdown",
   "metadata": {},
   "source": [
    "#### Split in equal size sub-array"
   ]
  },
  {
   "cell_type": "code",
   "execution_count": 103,
   "metadata": {},
   "outputs": [
    {
     "data": {
      "text/plain": [
       "[array([0, 1, 2]), array([3, 4, 5]), array([6, 7, 8])]"
      ]
     },
     "execution_count": 103,
     "metadata": {},
     "output_type": "execute_result"
    }
   ],
   "source": [
    "np.split(a,3)"
   ]
  },
  {
   "cell_type": "markdown",
   "metadata": {},
   "source": [
    "#### Split the array at positions"
   ]
  },
  {
   "cell_type": "code",
   "execution_count": 104,
   "metadata": {},
   "outputs": [
    {
     "data": {
      "text/plain": [
       "[array([0, 1, 2, 3]), array([4, 5, 6]), array([7, 8])]"
      ]
     },
     "execution_count": 104,
     "metadata": {},
     "output_type": "execute_result"
    }
   ],
   "source": [
    "np.split(a,[4,7])"
   ]
  },
  {
   "cell_type": "markdown",
   "metadata": {},
   "source": [
    "#### Split array horizontally"
   ]
  },
  {
   "cell_type": "code",
   "execution_count": 105,
   "metadata": {},
   "outputs": [
    {
     "name": "stdout",
     "output_type": "stream",
     "text": [
      "[[0 1 2 3]\n",
      " [4 5 6 7]]\n"
     ]
    }
   ],
   "source": [
    "a = np.arange(8).reshape(2,4)\n",
    "print(a)"
   ]
  },
  {
   "cell_type": "code",
   "execution_count": 106,
   "metadata": {},
   "outputs": [
    {
     "name": "stdout",
     "output_type": "stream",
     "text": [
      "a1 =\n",
      " [[0 1]\n",
      " [4 5]]\n",
      "a2 =\n",
      " [[2 3]\n",
      " [6 7]]\n"
     ]
    }
   ],
   "source": [
    "a1, a2 = np.hsplit(a,2)\n",
    "print('a1 =\\n',a1)\n",
    "print('a2 =\\n',a2)"
   ]
  },
  {
   "cell_type": "code",
   "execution_count": 107,
   "metadata": {},
   "outputs": [
    {
     "data": {
      "text/plain": [
       "[array([[0],\n",
       "        [4]]), array([[1],\n",
       "        [5]]), array([[2],\n",
       "        [6]]), array([[3],\n",
       "        [7]])]"
      ]
     },
     "execution_count": 107,
     "metadata": {},
     "output_type": "execute_result"
    }
   ],
   "source": [
    "np.hsplit(a,4)"
   ]
  },
  {
   "cell_type": "markdown",
   "metadata": {},
   "source": [
    "#### Split array vertically"
   ]
  },
  {
   "cell_type": "code",
   "execution_count": 108,
   "metadata": {},
   "outputs": [
    {
     "data": {
      "text/plain": [
       "array([[0, 1, 2, 3],\n",
       "       [4, 5, 6, 7]])"
      ]
     },
     "execution_count": 108,
     "metadata": {},
     "output_type": "execute_result"
    }
   ],
   "source": [
    "a = np.arange(8).reshape(2,4)\n",
    "a"
   ]
  },
  {
   "cell_type": "code",
   "execution_count": 109,
   "metadata": {},
   "outputs": [
    {
     "name": "stdout",
     "output_type": "stream",
     "text": [
      "a1 = [[0 1 2 3]]\n",
      "a2 = [[4 5 6 7]]\n"
     ]
    }
   ],
   "source": [
    "a1,a2 = np.vsplit(a,2)\n",
    "print('a1 =',a1)\n",
    "print('a2 =',a2)"
   ]
  },
  {
   "cell_type": "markdown",
   "metadata": {},
   "source": [
    "## Shallow Copies"
   ]
  },
  {
   "cell_type": "markdown",
   "metadata": {},
   "source": [
    "NumPy has `view()` method which is used to create an array object that looks at the same data of the original array. Change in dimensions of the new array doesn’t change dimensions of the original, but change in data also change data in origional."
   ]
  },
  {
   "cell_type": "code",
   "execution_count": 110,
   "metadata": {},
   "outputs": [],
   "source": [
    "fruits = np.array(['Apple','Mango','Grapes','Strawberry'])"
   ]
  },
  {
   "cell_type": "code",
   "execution_count": 111,
   "metadata": {},
   "outputs": [],
   "source": [
    "basket_1 = fruits.view()\n",
    "basket_2 = fruits.view()"
   ]
  },
  {
   "cell_type": "code",
   "execution_count": 112,
   "metadata": {},
   "outputs": [
    {
     "name": "stdout",
     "output_type": "stream",
     "text": [
      "['Apple' 'Mango' 'Grapes' 'Strawberry']\n",
      "['Apple' 'Mango' 'Grapes' 'Strawberry']\n"
     ]
    }
   ],
   "source": [
    "print(basket_1)\n",
    "print(basket_2)"
   ]
  },
  {
   "cell_type": "code",
   "execution_count": 113,
   "metadata": {},
   "outputs": [
    {
     "name": "stdout",
     "output_type": "stream",
     "text": [
      "4505422864\n",
      "4505438528\n",
      "4505372832\n"
     ]
    }
   ],
   "source": [
    "##Ids for the arrays are different\n",
    "print(id(fruits))\n",
    "print(id(basket_1))\n",
    "print(id(basket_2))"
   ]
  },
  {
   "cell_type": "code",
   "execution_count": 114,
   "metadata": {},
   "outputs": [
    {
     "data": {
      "text/plain": [
       "False"
      ]
     },
     "execution_count": 114,
     "metadata": {},
     "output_type": "execute_result"
    }
   ],
   "source": [
    "basket_1 is fruits"
   ]
  },
  {
   "cell_type": "code",
   "execution_count": 115,
   "metadata": {},
   "outputs": [
    {
     "data": {
      "text/plain": [
       "True"
      ]
     },
     "execution_count": 115,
     "metadata": {},
     "output_type": "execute_result"
    }
   ],
   "source": [
    "basket_1.base is fruits"
   ]
  },
  {
   "cell_type": "code",
   "execution_count": 116,
   "metadata": {},
   "outputs": [
    {
     "name": "stdout",
     "output_type": "stream",
     "text": [
      "Fruits:\n",
      " ['Banana' 'Mango' 'Grapes' 'Strawberry']\n",
      "Basket 1:\n",
      " ['Banana' 'Mango' 'Grapes' 'Strawberry']\n",
      "Basket 2:\n",
      " ['Banana' 'Mango' 'Grapes' 'Strawberry']\n"
     ]
    }
   ],
   "source": [
    "#Also change data of an origional array\n",
    "basket_2[0] = 'Banana'\n",
    "print('Fruits:\\n',fruits)\n",
    "print('Basket 1:\\n',basket_1)\n",
    "print('Basket 2:\\n',basket_2)"
   ]
  },
  {
   "cell_type": "code",
   "execution_count": 117,
   "metadata": {},
   "outputs": [
    {
     "data": {
      "text/plain": [
       "False"
      ]
     },
     "execution_count": 117,
     "metadata": {},
     "output_type": "execute_result"
    }
   ],
   "source": [
    "basket_2 is basket_1"
   ]
  },
  {
   "cell_type": "code",
   "execution_count": 118,
   "metadata": {},
   "outputs": [
    {
     "name": "stdout",
     "output_type": "stream",
     "text": [
      "Fruits:\n",
      " ['Banana' 'Mango' 'Grapes' 'Strawberry']\n",
      "Basket 1:\n",
      " ['Banana' 'Mango' 'Grapes' 'Strawberry']\n",
      "Basket 2:\n",
      " [['Banana' 'Mango']\n",
      " ['Grapes' 'Strawberry']]\n"
     ]
    }
   ],
   "source": [
    "#Doesn't change dimension of an origional array\n",
    "basket_2.shape = 2,2\n",
    "print('Fruits:\\n',fruits)\n",
    "print('Basket 1:\\n',basket_1)\n",
    "print('Basket 2:\\n',basket_2)"
   ]
  },
  {
   "cell_type": "markdown",
   "metadata": {},
   "source": [
    "## Deep Copies"
   ]
  },
  {
   "cell_type": "markdown",
   "metadata": {},
   "source": [
    "The `copy()` function creates a deep copy. It is a complete copy of the array and its data, and doesn’t share with the original array."
   ]
  },
  {
   "cell_type": "code",
   "execution_count": 119,
   "metadata": {},
   "outputs": [
    {
     "name": "stdout",
     "output_type": "stream",
     "text": [
      "Fruits:\n",
      " ['Apple' 'Mango' 'Grapes' 'Strawberry']\n",
      "Basket 1:\n",
      " ['Apple' 'Mango' 'Grapes' 'Strawberry']\n",
      "Basket 2:\n",
      " ['Apple' 'Mango' 'Grapes' 'Strawberry']\n"
     ]
    }
   ],
   "source": [
    "fruits = np.array(['Apple','Mango','Grapes','Strawberry'])\n",
    "basket_1 = fruits.copy()\n",
    "basket_2 = fruits.copy()\n",
    "print('Fruits:\\n',fruits)\n",
    "print('Basket 1:\\n',basket_1)\n",
    "print('Basket 2:\\n',basket_2)"
   ]
  },
  {
   "cell_type": "code",
   "execution_count": 120,
   "metadata": {},
   "outputs": [
    {
     "name": "stdout",
     "output_type": "stream",
     "text": [
      "Fruits:\n",
      " ['Apple' 'Mango' 'Grapes' 'Strawberry']\n",
      "Basket 1:\n",
      " ['Banana' 'Mango' 'Grapes' 'Strawberry']\n",
      "Basket 2:\n",
      " ['Apple' 'Mango' 'Grapes' 'Strawberry']\n"
     ]
    }
   ],
   "source": [
    "#Doesn't change data of an origional array\n",
    "basket_1[0]='Banana'\n",
    "print('Fruits:\\n',fruits)\n",
    "print('Basket 1:\\n',basket_1)\n",
    "print('Basket 2:\\n',basket_2)"
   ]
  },
  {
   "cell_type": "code",
   "execution_count": 121,
   "metadata": {},
   "outputs": [
    {
     "name": "stdout",
     "output_type": "stream",
     "text": [
      "Fruits:\n",
      " ['Apple' 'Mango' 'Grapes' 'Strawberry']\n",
      "Basket 1:\n",
      " ['Banana' 'Mango' 'Grapes' 'Strawberry']\n",
      "Basket 2:\n",
      " [['Apple' 'Mango']\n",
      " ['Grapes' 'Strawberry']]\n"
     ]
    }
   ],
   "source": [
    "#Doesn't change dimension of an origional array\n",
    "basket_2.shape = 2,2\n",
    "print('Fruits:\\n',fruits)\n",
    "print('Basket 1:\\n',basket_1)\n",
    "print('Basket 2:\\n',basket_2)"
   ]
  }
 ],
 "metadata": {
  "kernelspec": {
   "display_name": "Python 3",
   "language": "python",
   "name": "python3"
  },
  "language_info": {
   "codemirror_mode": {
    "name": "ipython",
    "version": 3
   },
   "file_extension": ".py",
   "mimetype": "text/x-python",
   "name": "python",
   "nbconvert_exporter": "python",
   "pygments_lexer": "ipython3",
   "version": "3.7.5"
  }
 },
 "nbformat": 4,
 "nbformat_minor": 2
}
